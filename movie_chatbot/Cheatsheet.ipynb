{
 "cells": [
  {
   "cell_type": "markdown",
   "id": "fd3c2d9f-4567-44a9-87d3-51e93c2ef01b",
   "metadata": {},
   "source": [
    "## Task\n",
    "\n",
    "Implement a custom action for the movie recommendation chatbot skeleton.\n",
    "\n",
    "Tips:\n",
    "1. Retrieve recommendations from the recommendation API (`https://nsomabalint-movie-recommendation.hf.space/recommend`)\n",
    "2. Use the API response to generate a text message\n",
    "3. Tailor the output by changing the prompt (message length, personality of the chatbot, etc.)\n",
    "4. Don't forget to add the action to the domain file, add neccessary rule (`intent: recommend_movie --> action: action_recommend_movie`)"
   ]
  },
  {
   "cell_type": "markdown",
   "id": "9065e286-5ca4-4a1a-b96a-3450a547b1d8",
   "metadata": {},
   "source": [
    "## Get movie recommendation"
   ]
  },
  {
   "cell_type": "code",
   "execution_count": null,
   "id": "6102226b-b8cb-41a5-bb79-7b92ac30f95d",
   "metadata": {},
   "outputs": [
    {
     "name": "stdout",
     "output_type": "stream",
     "text": [
      "{'genres': ['Action', 'Sci-Fi'], 'matched': 'The Matrix', 'query': 'matrix', 'recommendations': ['The Dark Knight', 'Mad Max: Fury Road', 'The Avengers', 'Black Panther', 'John Wick']}\n"
     ]
    }
   ],
   "source": [
    "import requests\n",
    "\n",
    "api_url = \"https://nsomabalint-movie-recommendation.hf.space/recommend\"\n",
    "\n",
    "params = {\n",
    "    \"title\": \"matrix\"\n",
    "}\n",
    "\n",
    "response = requests.get(api_url, params=params)\n",
    "\n",
    "if response.status_code == 200:\n",
    "    result_dict = response.json()\n",
    "    print(result_dict)\n",
    "else:\n",
    "    print(f\"Error: {response.status_code}\")\n",
    "    print(response.text)"
   ]
  },
  {
   "cell_type": "markdown",
   "id": "2d30fb78-1b3f-4048-a964-df8fbfe414d7",
   "metadata": {},
   "source": [
    "## Generate with Groq\n",
    "\n",
    "Free API key: https://groq.com/ (DEV Console --> API Keys --> Create API Key)"
   ]
  },
  {
   "cell_type": "code",
   "execution_count": 8,
   "id": "590ee4e8-cd60-4dcb-8014-306841c46bad",
   "metadata": {},
   "outputs": [],
   "source": [
    "import requests\n",
    "\n",
    "def generate_groq_text(prompt):\n",
    "    \"\"\"\n",
    "    Generate text using Groq's Llama API based on the provided prompt.\n",
    "    \n",
    "    Args:\n",
    "        prompt (str): The text prompt to send to the API\n",
    "        \n",
    "    Returns:\n",
    "        str: Generated text response or error message\n",
    "    \"\"\"\n",
    "    grok_api_key = \"YOUR_FREE_API_KEY\"\n",
    "    \n",
    "    if not grok_api_key:\n",
    "        return \"API key not found. Please provide a valid Groq API key.\"\n",
    "    \n",
    "    try:\n",
    "        response = requests.post(\n",
    "            \"https://api.groq.com/openai/v1/chat/completions\",\n",
    "            headers={\n",
    "                \"Authorization\": f\"Bearer {grok_api_key}\",\n",
    "                \"Content-Type\": \"application/json\"\n",
    "            },\n",
    "            json={\n",
    "                \"model\": \"llama-3.3-70b-versatile\",\n",
    "                \"messages\": [{\"role\": \"user\", \"content\": prompt}],\n",
    "                \"temperature\": 0.7,\n",
    "                \"max_tokens\": 500\n",
    "            }\n",
    "        )\n",
    "        \n",
    "        data = response.json()\n",
    "        message = data.get('choices', [{}])[0].get('message', {}).get('content', '')\n",
    "        \n",
    "        if not message:\n",
    "            return \"No response generated from the API.\"\n",
    "        \n",
    "        return message\n",
    "    \n",
    "    except Exception as e:\n",
    "        return f\"Error generating text: {str(e)}\""
   ]
  },
  {
   "cell_type": "markdown",
   "id": "d67e43f9-0e85-4c3f-91db-adea63522a83",
   "metadata": {},
   "source": [
    "## Rasa action - reminders"
   ]
  },
  {
   "cell_type": "markdown",
   "id": "54ca3901-d3fa-491b-9e34-da6b70bc2b22",
   "metadata": {},
   "source": [
    "To get the value of a slot in a custom action:\n",
    "\n",
    "```python\n",
    "movie = tracker.get_slot(\"movie\")\n",
    "```\n",
    "\n",
    "Beware, movie might be None!"
   ]
  },
  {
   "cell_type": "markdown",
   "id": "faede15b-d378-415e-b840-3751da61cd0d",
   "metadata": {},
   "source": [
    "To make the bot say something from a custom action:\n",
    "\n",
    "```python\n",
    "\n",
    "dispatcher.utter_message(text=\"Hi!\")\n",
    "\n",
    "```"
   ]
  },
  {
   "cell_type": "markdown",
   "id": "5158a4b7-2e8a-49bf-81fc-ae6930445706",
   "metadata": {},
   "source": [
    "Printing in custom actions to stdout (`print()`) gets printed to the terminal of the action server when the code runs."
   ]
  }
 ],
 "metadata": {
  "kernelspec": {
   "display_name": "Python 3 (ipykernel)",
   "language": "python",
   "name": "python3"
  },
  "language_info": {
   "codemirror_mode": {
    "name": "ipython",
    "version": 3
   },
   "file_extension": ".py",
   "mimetype": "text/x-python",
   "name": "python",
   "nbconvert_exporter": "python",
   "pygments_lexer": "ipython3",
   "version": "3.11.7"
  }
 },
 "nbformat": 4,
 "nbformat_minor": 5
}
